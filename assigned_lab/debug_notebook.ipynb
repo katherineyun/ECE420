{
 "cells": [
  {
   "cell_type": "code",
   "execution_count": 1,
   "metadata": {},
   "outputs": [],
   "source": [
    "import numpy as np\n",
    "import matplotlib.pyplot as plt\n",
    "from scipy.io.wavfile import read, write\n",
    "from numpy.fft import fft, ifft\n",
    "from IPython.display import Audio"
   ]
  },
  {
   "cell_type": "code",
   "execution_count": 2,
   "metadata": {},
   "outputs": [],
   "source": [
    "FRAME_SIZE = 256\n",
    "SKIP = 128"
   ]
  },
  {
   "cell_type": "code",
   "execution_count": 6,
   "metadata": {},
   "outputs": [],
   "source": [
    "Fs, data = read('test_audio.wav')\n",
    "numFrames = int(len(data) / SKIP)\n",
    "output = np.zeros(len(data))\n",
    "window_num = 0\n",
    "noise_spectrum = np.zeros(FRAME_SIZE)\n",
    "frame = np.zeros(FRAME_SIZE)\n",
    "\n",
    "residual = np.zeros(FRAME_SIZE)\n",
    "\n",
    "previous = np.zeros(FRAME_SIZE)\n",
    "current = np.zeros(FRAME_SIZE)\n",
    "future = np.zeros(FRAME_SIZE)\n",
    "\n",
    "c_flag = 0\n",
    "\n",
    "ns_s = np.zeros(numFrames)"
   ]
  },
  {
   "cell_type": "code",
   "execution_count": 17,
   "metadata": {},
   "outputs": [
    {
     "data": {
      "text/plain": [
       "[<matplotlib.lines.Line2D at 0x1ef72d3f470>]"
      ]
     },
     "execution_count": 17,
     "metadata": {},
     "output_type": "execute_result"
    },
    {
     "data": {
      "image/png": "[encoded data removed]",
      "text/plain": [
       "<Figure size 432x288 with 1 Axes>"
      ]
     },
     "metadata": {
      "needs_background": "light"
     },
     "output_type": "display_data"
    }
   ],
   "source": [
    "for i in range(numFrames):\n",
    "    #print(i)\n",
    "    #print(previous)\n",
    "    frame = data[i * SKIP : (i * SKIP + FRAME_SIZE)]\n",
    "    \n",
    "    if(len(frame) < FRAME_SIZE):\n",
    "        continue\n",
    "    #Judging non-speech and speech activity\n",
    "    energy = np.zeros(frame.shape[0])\n",
    "    for j in range(frame.shape[0]):\n",
    "        energy[j] = pow(frame[j], 2)\n",
    "        \n",
    "    if (sum(energy) < 990000000):\n",
    "        f_flag = 0\n",
    "        ns_s[i] = 0\n",
    "    else:\n",
    "        f_flag = 1\n",
    "        ns_s[i] = 1\n",
    "        \n",
    "plt.plot(ns_s)"
   ]
  },
  {
   "cell_type": "code",
   "execution_count": null,
   "metadata": {},
   "outputs": [],
   "source": []
  }
 ],
 "metadata": {
  "kernelspec": {
   "display_name": "Python 3",
   "language": "python",
   "name": "python3"
  },
  "language_info": {
   "codemirror_mode": {
    "name": "ipython",
    "version": 3
   },
   "file_extension": ".py",
   "mimetype": "text/x-python",
   "name": "python",
   "nbconvert_exporter": "python",
   "pygments_lexer": "ipython3",
   "version": "3.7.1"
  }
 },
 "nbformat": 4,
 "nbformat_minor": 2
}
