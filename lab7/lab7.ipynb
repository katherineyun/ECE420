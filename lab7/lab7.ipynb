{
 "cells": [
  {
   "cell_type": "code",
   "execution_count": 1,
   "metadata": {},
   "outputs": [
    {
     "name": "stdout",
     "output_type": "stream",
     "text": [
      "Cannot read video file!\n"
     ]
    },
    {
     "ename": "SystemExit",
     "evalue": "",
     "output_type": "error",
     "traceback": [
      "An exception has occurred, use %tb to see the full traceback.\n",
      "\u001b[1;31mSystemExit\u001b[0m\n"
     ]
    },
    {
     "name": "stderr",
     "output_type": "stream",
     "text": [
      "C:\\Users\\Katherine\\Anaconda3\\lib\\site-packages\\IPython\\core\\interactiveshell.py:3275: UserWarning: To exit: use 'exit', 'quit', or Ctrl-D.\n",
      "  warn(\"To exit: use 'exit', 'quit', or Ctrl-D.\", stacklevel=1)\n"
     ]
    }
   ],
   "source": [
    "import cv2\n",
    "import sys\n",
    "\n",
    "\n",
    "# Load video, 0 for webcam, str for path to video\n",
    "#video = cv2.VideoCapture(0)\n",
    "video = cv2.VideoCapture('test_clip.mp4')\n",
    "\n",
    "# Exit if video not opened.\n",
    "if not video.isOpened():\n",
    "    print('Could not open video!')\n",
    "    sys.exit()\n",
    "\n",
    "# Tracker Variables\n",
    "tracker = None\n",
    "roi = (0, 0, 0, 0)\n",
    "# -1 for not tracking, 0 for init tracking, 1 for update tracking\n",
    "tracking_flag = -1\n",
    "\n",
    "# Loop simulate Camera Preview Callback\n",
    "while True:\n",
    "\n",
    "    # Capture user Key Press to simulate App Control\n",
    "    if(tracking_flag == -1):\n",
    "        key = cv2.waitKey(0) & 0xff\n",
    "    else:\n",
    "        key = cv2.waitKey(1) & 0xff\n",
    "    # User Press Enter\n",
    "    if key == 13:\n",
    "        # Not tracking\n",
    "        if tracking_flag == -1:\n",
    "            # Pause and let user select ROI\n",
    "            roi = cv2.selectROI(frame, False)\n",
    "            # Init tracking\n",
    "            tracking_flag = 0\n",
    "        # Is tracking\n",
    "        if tracking_flag == 1:\n",
    "            # Reset ROI\n",
    "            roi = (0, 0, 0, 0)\n",
    "            # Clear Tracker\n",
    "            tracker.clear()\n",
    "            # Stop tracking\n",
    "            tracking_flag = -1\n",
    "    # User Press ESC\n",
    "    elif key == 27:\n",
    "        break\n",
    "\n",
    "    # Start timer\n",
    "    start = cv2.getTickCount()\n",
    "\n",
    "    # Read Next frame.\n",
    "    read_success, frame = video.read()\n",
    "    if not read_success:\n",
    "        print('Cannot read video file!')\n",
    "        sys.exit()\n",
    "\n",
    "    if tracking_flag == -1:\n",
    "        # Display Text\n",
    "        cv2.putText(frame, \"Press ENTER to select ROI!\", (10, 30), cv2.FONT_HERSHEY_SIMPLEX, 0.75, (0, 0, 255), 2)\n",
    "\n",
    "\n",
    "    elif tracking_flag == 0:\n",
    "\n",
    "        # Initialize KCF Tracker and Start Tracking\n",
    "        # 1. Create a KCF Tracker\n",
    "        # 2. Initialize KCF Tracker with grayscale image and ROI\n",
    "        # 3. Modify tracking flag to start tracking\n",
    "        # Your code starts here\n",
    "        \n",
    "        tracker = cv2.TrackerKCF_create()\n",
    "        success = tracker.init(frame,roi)\n",
    "        tracking_flag = 1\n",
    "        \n",
    "        \n",
    "\n",
    "\n",
    "    else:\n",
    "\n",
    "        # Update tracking result is succeed\n",
    "        # If failed, print text \"Tracking failure occurred!\" at top left corner of the frame\n",
    "        # Calculate and display \"FPS@fps_value\" at top right corner of the frame\n",
    "        # Your code starts here\n",
    "        \n",
    "        \n",
    "        \n",
    "        success, roi = tracker.update(frame)\n",
    "        if(success==False):\n",
    "            cv2.putText(frame, \"Tracking failure occurred!\", (10, 30), cv2.FONT_HERSHEY_SIMPLEX, 0.75, (0, 0, 255), 2)\n",
    "        fps = cv2.getTickFrequency()/(cv2.getTickCount() - start)\n",
    "        cv2.putText(frame, \"FPS@\" + str(fps), (400, 30), cv2.FONT_HERSHEY_SIMPLEX, 0.75, (0, 0, 255), 2)\n",
    "        \n",
    "\n",
    "\n",
    "    # Draw ROI Rectangle\n",
    "    p1 = (int(roi[0]), int(roi[1]))\n",
    "    p2 = (int(roi[0] + roi[2]), int(roi[1] + roi[3]))\n",
    "    cv2.rectangle(frame, p1, p2, (255, 0, 0), 2, 1)\n",
    "    # Display result\n",
    "    cv2.imshow(\"ECE420 Lab7\", frame)\n"
   ]
  },
  {
   "cell_type": "code",
   "execution_count": null,
   "metadata": {},
   "outputs": [],
   "source": []
  }
 ],
 "metadata": {
  "kernelspec": {
   "display_name": "Python 3",
   "language": "python",
   "name": "python3"
  },
  "language_info": {
   "codemirror_mode": {
    "name": "ipython",
    "version": 3
   },
   "file_extension": ".py",
   "mimetype": "text/x-python",
   "name": "python",
   "nbconvert_exporter": "python",
   "pygments_lexer": "ipython3",
   "version": "3.7.1"
  }
 },
 "nbformat": 4,
 "nbformat_minor": 2
}
