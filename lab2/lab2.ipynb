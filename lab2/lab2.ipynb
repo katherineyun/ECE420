{
 "cells": [
  {
   "cell_type": "code",
   "execution_count": null,
   "metadata": {},
   "outputs": [],
   "source": [
    "import numpy as np\n",
    "import matplotlib.pyplot as plt\n",
    "from scipy import signal\n",
    "\n",
    "# Your filter design here\n",
    "# firls() can be called via signal.firls()\n",
    "fs = 48000\n",
    "b = signal.firls(73, bands, desired, fs=fs)\n",
    "\n",
    "# Signal analysis\n",
    "w, h = signal.freqz(b)\n",
    "\n",
    "plt.figure()\n",
    "plt.subplot(2,1,1)\n",
    "plt.title('Digital filter frequency response, N = ' + str(len(b)))\n",
    "plt.plot(w / np.pi, 20 * np.log10(abs(h)), 'b')\n",
    "plt.ylabel('Amplitude [dB]', color='b')\n",
    "plt.grid()\n",
    "plt.axis('tight')\n",
    "\n",
    "plt.subplot(2,1,2)\n",
    "angles = np.unwrap(np.angle(h))\n",
    "plt.plot(w / np.pi, angles, 'g')\n",
    "plt.ylabel('Angle (radians)', color='g')\n",
    "plt.grid()\n",
    "plt.axis('tight')\n",
    "plt.xlabel('Frequency [0 to Nyquist Hz, normalized]')\n",
    "plt.show()\n"
   ]
  },
  {
   "cell_type": "code",
   "execution_count": null,
   "metadata": {},
   "outputs": [],
   "source": [
    "F_s = 48000\n",
    "t = [i / F_s for i in range(2 * F_s)]\n",
    "\n",
    "test_data = signal.chirp(t, 1, t[-1], 24000, method='logarithmic')\n",
    "\n",
    "# ... filter ..."
   ]
  },
  {
   "cell_type": "code",
   "execution_count": null,
   "metadata": {},
   "outputs": [],
   "source": [
    "a = [1, 2, 3, 4, 5, 6]\n",
    "coef_str = \"float coefs[] = {\" \n",
    "for val in a: \n",
    "    coef_str += str(val) + \", \" \n",
    "coef_str = coef_str[:-2] \n",
    "coef_str += \"};\" \n",
    "print(coef_str) "
   ]
  }
 ],
 "metadata": {
  "kernelspec": {
   "display_name": "Python 3",
   "language": "python",
   "name": "python3"
  },
  "language_info": {
   "codemirror_mode": {
    "name": "ipython",
    "version": 3
   },
   "file_extension": ".py",
   "mimetype": "text/x-python",
   "name": "python",
   "nbconvert_exporter": "python",
   "pygments_lexer": "ipython3",
   "version": "3.7.1"
  }
 },
 "nbformat": 4,
 "nbformat_minor": 2
}
